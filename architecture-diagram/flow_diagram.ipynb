{
 "cells": [
  {
   "cell_type": "markdown",
   "metadata": {},
   "source": [
    "## IMPORT LIBRARIES"
   ]
  },
  {
   "cell_type": "code",
   "execution_count": 2,
   "metadata": {},
   "outputs": [],
   "source": [
    "from diagrams import Diagram, Cluster, Edge\n",
    "from diagrams.custom import Custom\n",
    "from diagrams.aws.storage import S3\n",
    "from diagrams.programming.framework import FastAPI\n",
    "from diagrams.onprem.database import Mongodb\n",
    "from diagrams.saas.analytics import Snowflake\n",
    "from diagrams.onprem.workflow import Airflow\n",
    "from diagrams.programming.language import Python"
   ]
  },
  {
   "cell_type": "code",
   "execution_count": 1,
   "metadata": {},
   "outputs": [],
   "source": [
    "# Adjust these Graphviz attributes to increase diagram size, node spacing, etc.\n",
    "graph_attr = {\n",
    "    \"fontsize\" : \"16\"\n",
    "}\n",
    "\n",
    "filename = \"flow_diagram\""
   ]
  },
  {
   "cell_type": "markdown",
   "metadata": {},
   "source": [
    "## FLOW DIAGRAM CREATION"
   ]
  },
  {
   "cell_type": "code",
   "execution_count": 3,
   "metadata": {},
   "outputs": [],
   "source": [
    "def create_flow_diagram():\n",
    "    try:\n",
    "        with Diagram(\"Flow Diagram\", filename=filename, show=False, direction=\"LR\", graph_attr=graph_attr):\n",
    "                \n",
    "                linkedin = Custom(\"LinkedIn\", \"./input_icons/linkedin.png\")\n",
    "                indeed = Custom(\"Indeed\", \"./input_icons/indeed.png\")\n",
    "                simplyhired = Custom(\"SimplyHired\", \"./input_icons/simplyhired.png\")\n",
    "                s3 = S3(\"Staging\")\n",
    "                mongo = Mongodb(\"Mongo\")\n",
    "                streamlit = Custom(\"UI\", \"./input_icons/streamlit.png\")\n",
    "                fastapi = FastAPI(\"Fast API\")\n",
    "                user = Custom(\"User\", \"./input_icons/user.png\")\n",
    "                \n",
    "                with Cluster(\"Resume processing\"):\n",
    "                    text_extract = Python(\"Resume\\ntext extract\")\n",
    "                    vector_resume = Python(\"Vectorisation\")\n",
    "                    top_jobs = Python(\"Top 10 jobs\")\n",
    "                \n",
    "                with Cluster(\"Daily pipleine\"):\n",
    "                    # airflow1 = Airflow(length=\"0.5\", width=\"0.5\")\n",
    "                    job_scrape = Python(\"Job scrape\")\n",
    "                    data_validation = Python(\"Data Validation\")\n",
    "                    vectorize = Python(\"Embedding\")\n",
    "                    job_load = Python(\"Jobs load\")\n",
    "                \n",
    "                pinecone = Custom(\"Pinecone\", \"./input_icons/pinecone.png\")\n",
    "                snowflake = Snowflake(\"Snowflake\")\n",
    "                huggingface = Custom(\"Huggingface\\nTransformers\", \"./input_icons/huggingface.png\")\n",
    "                    \n",
    "                linkedin >> job_scrape\n",
    "                indeed >> job_scrape\n",
    "                simplyhired >> job_scrape\n",
    "                job_scrape >> data_validation >> vectorize >> job_load\n",
    "                job_scrape >> s3 >> job_load\n",
    "                data_validation >> Edge(label=\"\") << s3 >> vectorize\n",
    "                job_load >> snowflake >> top_jobs\n",
    "                vectorize >> Edge(label=\"embedding\") >> huggingface  >> pinecone >> top_jobs\n",
    "                \n",
    "                user >> Edge(label=\"Uploads Resume\") >> streamlit >> fastapi >> Edge(label=\"User Authentication\") << mongo\n",
    "                streamlit >> Edge(label=\"Top 10 jobs\") >> user\n",
    "                fastapi >> Edge(label=\"Raw PDF\\n(Resume)\") >> s3\n",
    "                fastapi >> text_extract >>vector_resume >>Edge(label=\"Pinecone metadata\") >> top_jobs\n",
    "                text_extract >> Edge(label=\"\") << s3\n",
    "                s3 >> Edge(label=\"user portfolio\") >> vector_resume >> Edge(label=\"Embedding\") >> huggingface\n",
    "                \n",
    "                \n",
    "      \n",
    "    except Exception as e:\n",
    "        print(\"Exception: \",e)\n",
    "    "
   ]
  },
  {
   "cell_type": "code",
   "execution_count": 4,
   "metadata": {},
   "outputs": [],
   "source": [
    "create_flow_diagram()"
   ]
  }
 ],
 "metadata": {
  "kernelspec": {
   "display_name": "Python 3",
   "language": "python",
   "name": "python3"
  },
  "language_info": {
   "codemirror_mode": {
    "name": "ipython",
    "version": 3
   },
   "file_extension": ".py",
   "mimetype": "text/x-python",
   "name": "python",
   "nbconvert_exporter": "python",
   "pygments_lexer": "ipython3",
   "version": "3.11.5"
  }
 },
 "nbformat": 4,
 "nbformat_minor": 2
}
